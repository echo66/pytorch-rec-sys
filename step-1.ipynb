{
 "cells": [
  {
   "cell_type": "code",
   "execution_count": 161,
   "metadata": {
    "collapsed": true,
    "deletable": true,
    "editable": true
   },
   "outputs": [],
   "source": [
    "import pandas as pd\n",
    "import numpy as np\n",
    "import torch\n",
    "import time\n",
    "from datetime import date\n",
    "import sys\n",
    "import pickle\n",
    "\n",
    "import data_preparation\n",
    "import matrices_functions\n",
    "import cost_and_prediction_functions"
   ]
  },
  {
   "cell_type": "code",
   "execution_count": 162,
   "metadata": {
    "collapsed": true,
    "deletable": true,
    "editable": true
   },
   "outputs": [],
   "source": [
    "def create_sub_matrices(userIds, movieIds):\n",
    "    sUFeats = matrices_functions.create_sub_matrix(UFeats, userIds)\n",
    "    sUBias  = matrices_functions.create_sub_matrix(UBias, userIds)\n",
    "    sIFeats = matrices_functions.create_sub_matrix(IFeats, movieIds)\n",
    "    sOnes   = matrices_functions.create_sub_matrix(Ones, movieIds)\n",
    "\n",
    "    ufeats = torch.cat((sUFeats, sUBias), 1)\n",
    "    ifeats = torch.cat((sIFeats, sOnes), 1)\n",
    "    \n",
    "    return (ufeats, ifeats)"
   ]
  },
  {
   "cell_type": "code",
   "execution_count": 163,
   "metadata": {
    "collapsed": true,
    "deletable": true,
    "editable": true
   },
   "outputs": [],
   "source": [
    "def compute_predictions_and_costs(t, ufeats, ifeats, lamb): \n",
    "    \n",
    "    pred = cost_and_prediction_functions.compute_prediction(ufeats, ifeats)\n",
    "    \n",
    "    mse = cost_and_prediction_functions.compute_mse(pred, t)\n",
    "    \n",
    "    regl2_u = cost_and_prediction_functions.compute_regl2(ufeats)\n",
    "    \n",
    "    regl2_i = cost_and_prediction_functions.compute_regl2(ifeats)\n",
    "    \n",
    "    loss = mse + (lamb/2) * regl2_u + (lamb/2) * regl2_i\n",
    "    \n",
    "    return loss"
   ]
  },
  {
   "cell_type": "code",
   "execution_count": 164,
   "metadata": {
    "collapsed": true,
    "deletable": true,
    "editable": true
   },
   "outputs": [],
   "source": [
    "def create_expanded_target_and_mask_vectors(numberOfItems, ratings): \n",
    "    \n",
    "    M = torch.autograd.Variable(torch.zeros(numberOfItems+1, 1), requires_grad=False).t()\n",
    "    T = torch.autograd.Variable(torch.zeros(numberOfItems+1, 1), requires_grad=False).t()\n",
    "    \n",
    "    for r in ratings.iterrows(): \n",
    "        r = r[1]\n",
    "        T.data[0, r.movieId] = r.rating\n",
    "        M.data[0, r.movieId] = 1\n",
    "        \n",
    "    return (T.t(), M.t())"
   ]
  },
  {
   "cell_type": "code",
   "execution_count": 165,
   "metadata": {
    "collapsed": true,
    "deletable": true,
    "editable": true
   },
   "outputs": [],
   "source": [
    "def fill_target_and_mask_vectors(ratings, T, M): \n",
    "    T.data[0, :] = M.data[0, :] = 0\n",
    "    for r in ratings.iterrows(): \n",
    "        r = r[1]\n",
    "        T.data[0, r.movieId] = r.rating\n",
    "        M.data[0, r.movieId] = 1"
   ]
  },
  {
   "cell_type": "code",
   "execution_count": 166,
   "metadata": {
    "collapsed": true
   },
   "outputs": [],
   "source": [
    "def calculate_user_cost(lamb, userId, dataset): \n",
    "    \n",
    "    userRatings = dataset[dataset.userId == userId]\n",
    "    \n",
    "    movieIds = userRatings.movieId.values\n",
    "    \n",
    "    (ufeats, ifeats) = create_sub_matrices([userId], movieIds)\n",
    "    \n",
    "    pred = torch.mm(ufeats, ifeats.t())\n",
    "\n",
    "    R = userRatings.rating.values\n",
    "\n",
    "    t = torch.autograd.Variable(torch.FloatTensor([R]), requires_grad=False)\n",
    "\n",
    "    mse = cost_and_prediction_functions.compute_mse(pred, t)\n",
    "\n",
    "    regl2_u = cost_and_prediction_functions.compute_regl2(ufeats)\n",
    "\n",
    "    regl2_i = cost_and_prediction_functions.compute_regl2(ifeats)\n",
    "\n",
    "    cost = mse + (lamb/2) * regl2_u + (lamb/2) * regl2_i\n",
    "    \n",
    "    return cost"
   ]
  },
  {
   "cell_type": "code",
   "execution_count": 167,
   "metadata": {
    "collapsed": true
   },
   "outputs": [],
   "source": [
    "def calculate_batch_cost(lamb, batch, userIds): \n",
    "    batchCost = 0.0\n",
    "    \n",
    "    for uId in userIds:\n",
    "        \n",
    "        userRatings = batch[batch.userId == uId]\n",
    "\n",
    "        # Extract the list of movies ids for the user, in the current batch.\n",
    "        movieIds = userRatings.movieId.values\n",
    "\n",
    "        (ufeats, ifeats) = create_sub_matrices([uId], movieIds)\n",
    "\n",
    "        # Extract the list of ratings for the user, in the current batch.\n",
    "        R = userRatings.rating.values\n",
    "\n",
    "        t = torch.autograd.Variable(torch.FloatTensor([R]), requires_grad=False)\n",
    "\n",
    "        userCost = compute_predictions_and_costs(t, ufeats, ifeats, lamb)\n",
    "\n",
    "        batchCost += userCost\n",
    "        \n",
    "    return batchCost"
   ]
  },
  {
   "cell_type": "markdown",
   "metadata": {
    "deletable": true,
    "editable": true
   },
   "source": [
    "### Loading the ratings dataset."
   ]
  },
  {
   "cell_type": "code",
   "execution_count": 6,
   "metadata": {
    "collapsed": false,
    "deletable": true,
    "editable": true
   },
   "outputs": [],
   "source": [
    "ratings = pd.read_csv('ratings_sorted_by_timestamp.csv')"
   ]
  },
  {
   "cell_type": "code",
   "execution_count": 7,
   "metadata": {
    "collapsed": false,
    "deletable": true,
    "editable": true,
    "scrolled": true
   },
   "outputs": [
    {
     "data": {
      "text/html": [
       "<div>\n",
       "<table border=\"1\" class=\"dataframe\">\n",
       "  <thead>\n",
       "    <tr style=\"text-align: right;\">\n",
       "      <th></th>\n",
       "      <th>Unnamed: 0</th>\n",
       "      <th>userId</th>\n",
       "      <th>movieId</th>\n",
       "      <th>rating</th>\n",
       "      <th>timestamp</th>\n",
       "    </tr>\n",
       "  </thead>\n",
       "  <tbody>\n",
       "    <tr>\n",
       "      <th>0</th>\n",
       "      <td>18713577</td>\n",
       "      <td>198518</td>\n",
       "      <td>1176</td>\n",
       "      <td>4</td>\n",
       "      <td>789652004</td>\n",
       "    </tr>\n",
       "    <tr>\n",
       "      <th>1</th>\n",
       "      <td>13721561</td>\n",
       "      <td>145654</td>\n",
       "      <td>21</td>\n",
       "      <td>3</td>\n",
       "      <td>789652009</td>\n",
       "    </tr>\n",
       "    <tr>\n",
       "      <th>2</th>\n",
       "      <td>13721567</td>\n",
       "      <td>145654</td>\n",
       "      <td>47</td>\n",
       "      <td>5</td>\n",
       "      <td>789652009</td>\n",
       "    </tr>\n",
       "    <tr>\n",
       "      <th>3</th>\n",
       "      <td>13721610</td>\n",
       "      <td>145654</td>\n",
       "      <td>1079</td>\n",
       "      <td>3</td>\n",
       "      <td>789652009</td>\n",
       "    </tr>\n",
       "    <tr>\n",
       "      <th>4</th>\n",
       "      <td>6406144</td>\n",
       "      <td>66985</td>\n",
       "      <td>31</td>\n",
       "      <td>5</td>\n",
       "      <td>822873600</td>\n",
       "    </tr>\n",
       "  </tbody>\n",
       "</table>\n",
       "</div>"
      ],
      "text/plain": [
       "   Unnamed: 0  userId  movieId  rating  timestamp\n",
       "0    18713577  198518     1176       4  789652004\n",
       "1    13721561  145654       21       3  789652009\n",
       "2    13721567  145654       47       5  789652009\n",
       "3    13721610  145654     1079       3  789652009\n",
       "4     6406144   66985       31       5  822873600"
      ]
     },
     "execution_count": 7,
     "metadata": {},
     "output_type": "execute_result"
    }
   ],
   "source": [
    "ratings.head(5)"
   ]
  },
  {
   "cell_type": "code",
   "execution_count": 8,
   "metadata": {
    "collapsed": false,
    "deletable": true,
    "editable": true,
    "scrolled": true
   },
   "outputs": [
    {
     "data": {
      "text/html": [
       "<div>\n",
       "<table border=\"1\" class=\"dataframe\">\n",
       "  <thead>\n",
       "    <tr style=\"text-align: right;\">\n",
       "      <th></th>\n",
       "      <th>Unnamed: 0</th>\n",
       "      <th>userId</th>\n",
       "      <th>movieId</th>\n",
       "      <th>rating</th>\n",
       "      <th>timestamp</th>\n",
       "    </tr>\n",
       "  </thead>\n",
       "  <tbody>\n",
       "    <tr>\n",
       "      <th>13995971</th>\n",
       "      <td>2838486</td>\n",
       "      <td>30177</td>\n",
       "      <td>1073</td>\n",
       "      <td>3</td>\n",
       "      <td>1177633473</td>\n",
       "    </tr>\n",
       "  </tbody>\n",
       "</table>\n",
       "</div>"
      ],
      "text/plain": [
       "          Unnamed: 0  userId  movieId  rating   timestamp\n",
       "13995971     2838486   30177     1073       3  1177633473"
      ]
     },
     "execution_count": 8,
     "metadata": {},
     "output_type": "execute_result"
    }
   ],
   "source": [
    "ratings.sample()"
   ]
  },
  {
   "cell_type": "markdown",
   "metadata": {
    "deletable": true,
    "editable": true
   },
   "source": [
    "### Counting how many ratings, users and items do we have in the ratings data frame."
   ]
  },
  {
   "cell_type": "code",
   "execution_count": 9,
   "metadata": {
    "collapsed": false,
    "deletable": true,
    "editable": true
   },
   "outputs": [],
   "source": [
    "numberOfItems = np.max(ratings.movieId.unique())"
   ]
  },
  {
   "cell_type": "code",
   "execution_count": 10,
   "metadata": {
    "collapsed": true,
    "deletable": true,
    "editable": true
   },
   "outputs": [],
   "source": [
    "numberOfUsers = np.max(ratings.userId.unique())"
   ]
  },
  {
   "cell_type": "code",
   "execution_count": 11,
   "metadata": {
    "collapsed": false,
    "deletable": true,
    "editable": true
   },
   "outputs": [],
   "source": [
    "numberOfRatings = ratings.shape[0]"
   ]
  },
  {
   "cell_type": "code",
   "execution_count": 12,
   "metadata": {
    "collapsed": false,
    "deletable": true,
    "editable": true,
    "scrolled": true
   },
   "outputs": [
    {
     "data": {
      "text/plain": [
       "(24404096, 165201, 259137)"
      ]
     },
     "execution_count": 12,
     "metadata": {},
     "output_type": "execute_result"
    }
   ],
   "source": [
    "(numberOfRatings, numberOfItems, numberOfUsers)"
   ]
  },
  {
   "cell_type": "markdown",
   "metadata": {
    "deletable": true,
    "editable": true
   },
   "source": [
    "### Build training and test datasets."
   ]
  },
  {
   "cell_type": "markdown",
   "metadata": {
    "deletable": true,
    "editable": true
   },
   "source": [
    "TODO: create a validation dataset!"
   ]
  },
  {
   "cell_type": "code",
   "execution_count": 13,
   "metadata": {
    "collapsed": true,
    "deletable": true,
    "editable": true
   },
   "outputs": [],
   "source": [
    "userRatings = ratings\n",
    "numberOfUserRatings = userRatings.shape[0]"
   ]
  },
  {
   "cell_type": "code",
   "execution_count": 14,
   "metadata": {
    "collapsed": false,
    "deletable": true,
    "editable": true
   },
   "outputs": [],
   "source": [
    "trainVolume = 0.7\n",
    "testVolume  = 0.3"
   ]
  },
  {
   "cell_type": "code",
   "execution_count": 15,
   "metadata": {
    "collapsed": true,
    "deletable": true,
    "editable": true
   },
   "outputs": [],
   "source": [
    "trainDataset = userRatings.head(int(trainVolume * numberOfUserRatings))"
   ]
  },
  {
   "cell_type": "code",
   "execution_count": 16,
   "metadata": {
    "collapsed": false,
    "deletable": true,
    "editable": true
   },
   "outputs": [],
   "source": [
    "testDataset  = userRatings.tail(int(testVolume * numberOfUserRatings))"
   ]
  },
  {
   "cell_type": "code",
   "execution_count": 17,
   "metadata": {
    "collapsed": false,
    "deletable": true,
    "editable": true,
    "scrolled": true
   },
   "outputs": [
    {
     "data": {
      "text/plain": [
       "(17082867, 7321228, 24404095)"
      ]
     },
     "execution_count": 17,
     "metadata": {},
     "output_type": "execute_result"
    }
   ],
   "source": [
    "(trainDataset.shape[0], testDataset.shape[0], trainDataset.shape[0] + testDataset.shape[0])"
   ]
  },
  {
   "cell_type": "code",
   "execution_count": 18,
   "metadata": {
    "collapsed": true,
    "deletable": true,
    "editable": true
   },
   "outputs": [],
   "source": [
    "maxBatchSize = 2000"
   ]
  },
  {
   "cell_type": "code",
   "execution_count": 19,
   "metadata": {
    "collapsed": false,
    "deletable": true,
    "editable": true,
    "scrolled": true
   },
   "outputs": [
    {
     "data": {
      "text/plain": [
       "8542"
      ]
     },
     "execution_count": 19,
     "metadata": {},
     "output_type": "execute_result"
    }
   ],
   "source": [
    "numberOfBatches = int(np.ceil(float(trainDataset.shape[0]) / float(maxBatchSize)))\n",
    "numberOfBatches"
   ]
  },
  {
   "cell_type": "code",
   "execution_count": 20,
   "metadata": {
    "collapsed": false,
    "deletable": true,
    "editable": true
   },
   "outputs": [
    {
     "data": {
      "text/plain": [
       "(2000, 5)"
      ]
     },
     "execution_count": 20,
     "metadata": {},
     "output_type": "execute_result"
    }
   ],
   "source": [
    "trainDataset[0:2000].shape"
   ]
  },
  {
   "cell_type": "code",
   "execution_count": 21,
   "metadata": {
    "collapsed": false,
    "deletable": true,
    "editable": true,
    "scrolled": true
   },
   "outputs": [
    {
     "data": {
      "text/plain": [
       "(2000, 5)"
      ]
     },
     "execution_count": 21,
     "metadata": {},
     "output_type": "execute_result"
    }
   ],
   "source": [
    "trainDataset[2001:4001].shape"
   ]
  },
  {
   "cell_type": "markdown",
   "metadata": {
    "deletable": true,
    "editable": true
   },
   "source": [
    "### Create user and item \"embeddings\" with an arbitrary number of dimensions."
   ]
  },
  {
   "cell_type": "code",
   "execution_count": null,
   "metadata": {
    "collapsed": true,
    "deletable": true,
    "editable": true
   },
   "outputs": [],
   "source": []
  },
  {
   "cell_type": "code",
   "execution_count": 22,
   "metadata": {
    "collapsed": true,
    "deletable": true,
    "editable": true
   },
   "outputs": [],
   "source": [
    "numberOfLatentFeatures = 10"
   ]
  },
  {
   "cell_type": "code",
   "execution_count": 23,
   "metadata": {
    "collapsed": true,
    "deletable": true,
    "editable": true
   },
   "outputs": [],
   "source": [
    "# The first line won't be used\n",
    "UFeats, UBias = matrices_functions.create_user_features(numberOfLatentFeatures, numberOfUsers+1)"
   ]
  },
  {
   "cell_type": "code",
   "execution_count": 24,
   "metadata": {
    "collapsed": true,
    "deletable": true,
    "editable": true
   },
   "outputs": [],
   "source": [
    "# The first line won't be used\n",
    "IFeats = matrices_functions.create_item_features(numberOfLatentFeatures, numberOfItems+1)"
   ]
  },
  {
   "cell_type": "code",
   "execution_count": 25,
   "metadata": {
    "collapsed": true,
    "deletable": true,
    "editable": true
   },
   "outputs": [],
   "source": [
    "Ones = torch.autograd.Variable(torch.ones(numberOfItems+1, 1), requires_grad=False)"
   ]
  },
  {
   "cell_type": "code",
   "execution_count": null,
   "metadata": {
    "collapsed": true,
    "deletable": true,
    "editable": true
   },
   "outputs": [],
   "source": []
  },
  {
   "cell_type": "markdown",
   "metadata": {},
   "source": []
  },
  {
   "cell_type": "markdown",
   "metadata": {
    "collapsed": true,
    "deletable": true,
    "editable": true
   },
   "source": [
    "### Training (v2.0)"
   ]
  },
  {
   "cell_type": "code",
   "execution_count": 170,
   "metadata": {
    "collapsed": true,
    "deletable": true,
    "editable": true
   },
   "outputs": [],
   "source": [
    "# Create an error accumulator variable.\n",
    "# For each training batch:\n",
    "#   Extract the list of unique user ids for the batch.\n",
    "#   For each (unique) userId in the batch:\n",
    "#     Extract the list of ratings for the user, in the current batch.\n",
    "#     Extract the list of movies ids for the user, in the current batch.\n",
    "#     Create submatrices for the user and movies.\n",
    "#     Create target vector.\n",
    "#     Calculate predictions\n",
    "#     Calculate error\n",
    "#     Accumulate error\n",
    "#   Backpropagate\n",
    "#   Adjust parameters\n",
    "\n",
    "def training_v2(epochs=1, lamb=0.4): \n",
    "    #optimizer1 = torch.optim.Adagrad([UFeats, UBias, IFeats], lr=0.1)\n",
    "    optimizer1 = torch.optim.Adam([UFeats, UBias, IFeats])\n",
    "    optimizer1.zero_grad()\n",
    "    \n",
    "    # Training procedure Version 2.0\n",
    "\n",
    "    for e in range(epochs): \n",
    "\n",
    "        optimizer1.zero_grad()\n",
    "\n",
    "        # Create an error accumulator variable.\n",
    "        batchCost = 0.0\n",
    "\n",
    "        # For each training batch:\n",
    "        for i in range(1, numberOfBatches): \n",
    "\n",
    "            print('----------------------------------------------')\n",
    "\n",
    "            print(\"Batch %d/%d\" % (i,numberOfBatches))\n",
    "\n",
    "            # Extract training batch\n",
    "            batchStart = (i-1) * maxBatchSize\n",
    "            batchEnd   = i * maxBatchSize\n",
    "            batch = trainDataset[batchStart:batchEnd]\n",
    "\n",
    "            # Extract the list of unique user ids for the batch.\n",
    "            userIds = batch.userId.unique()\n",
    "\n",
    "            # Print some stats\n",
    "            nUIds = userIds.shape[0]\n",
    "            nIIds = batch.movieId.unique().shape[0]\n",
    "            nRats = batch.shape[0]\n",
    "            sparsity = float(nRats) / float((nUIds * nIIds))\n",
    "\n",
    "            print('  number of users: %d' % (nUIds))\n",
    "            print('  number of items: %d' % (nIIds))\n",
    "            print('  number of ratings: %d' % (nRats))\n",
    "            print('  non-zero elements percentage: %.3f' % (sparsity))\n",
    "\n",
    "            t0 = time.time()\n",
    "\n",
    "            batchCost = calculate_batch_cost(lamb, batch, userIds)\n",
    "\n",
    "            t1 = time.time()\n",
    "\n",
    "            print('  seconds spent on forward: %.5f' % (t1-t0))\n",
    "\n",
    "            t0 = time.time()\n",
    "\n",
    "            batchCost.backward(retain_variables=False)\n",
    "\n",
    "            t1 = time.time()\n",
    "\n",
    "            print('  seconds spent on backward: %.5f' % (t1-t0))\n",
    "\n",
    "            t0 = time.time()\n",
    "\n",
    "            optimizer1.step()\n",
    "\n",
    "            optimizer1.zero_grad()\n",
    "\n",
    "            t1 = time.time()\n",
    "\n",
    "            print('  seconds spent on optimizer step: %.5f' % (t1-t0))\n",
    "\n",
    "            print('----------------------------------------------')"
   ]
  },
  {
   "cell_type": "code",
   "execution_count": 171,
   "metadata": {
    "collapsed": false,
    "deletable": true,
    "editable": true
   },
   "outputs": [
    {
     "name": "stdout",
     "output_type": "stream",
     "text": [
      "----------------------------------------------\n",
      "Batch 1/8542\n",
      "  number of users: 79\n",
      "  number of items: 388\n",
      "  number of ratings: 2000\n",
      "  non-zero elements percentage: 0.065\n",
      "  seconds spent on forward: 0.29333\n",
      "  seconds spent on backward: 7.77222\n",
      "  seconds spent on optimizer step: 0.10405\n",
      "----------------------------------------------\n",
      "----------------------------------------------\n",
      "Batch 2/8542\n",
      "  number of users: 86\n",
      "  number of items: 261\n",
      "  number of ratings: 2000\n",
      "  non-zero elements percentage: 0.089\n",
      "  seconds spent on forward: 0.17623\n",
      "  seconds spent on backward: 7.78186\n",
      "  seconds spent on optimizer step: 0.06782\n",
      "----------------------------------------------\n",
      "----------------------------------------------\n",
      "Batch 3/8542\n",
      "  number of users: 68\n",
      "  number of items: 300\n",
      "  number of ratings: 2000\n",
      "  non-zero elements percentage: 0.098\n",
      "  seconds spent on forward: 0.18874\n",
      "  seconds spent on backward: 7.27469\n",
      "  seconds spent on optimizer step: 0.06064\n",
      "----------------------------------------------\n",
      "----------------------------------------------\n",
      "Batch 4/8542\n",
      "  number of users: 77\n",
      "  number of items: 266\n",
      "  number of ratings: 2000\n",
      "  non-zero elements percentage: 0.098\n",
      "  seconds spent on forward: 0.18191\n",
      "  seconds spent on backward: 7.83491\n",
      "  seconds spent on optimizer step: 0.06067\n",
      "----------------------------------------------\n",
      "----------------------------------------------\n",
      "Batch 5/8542\n",
      "  number of users: 68\n",
      "  number of items: 278\n",
      "  number of ratings: 2000\n",
      "  non-zero elements percentage: 0.106\n",
      "  seconds spent on forward: 0.16855\n",
      "  seconds spent on backward: 7.80457\n",
      "  seconds spent on optimizer step: 0.06067\n",
      "----------------------------------------------\n",
      "----------------------------------------------\n",
      "Batch 6/8542\n",
      "  number of users: 70\n",
      "  number of items: 262\n",
      "  number of ratings: 2000\n",
      "  non-zero elements percentage: 0.109\n",
      "  seconds spent on forward: 0.24972\n",
      "  seconds spent on backward: 8.41662\n",
      "  seconds spent on optimizer step: 0.06524\n",
      "----------------------------------------------\n",
      "----------------------------------------------\n",
      "Batch 7/8542\n",
      "  number of users: 69\n",
      "  number of items: 261\n",
      "  number of ratings: 2000\n",
      "  non-zero elements percentage: 0.111\n",
      "  seconds spent on forward: 0.20787\n",
      "  seconds spent on backward: 8.26907\n",
      "  seconds spent on optimizer step: 0.06066\n",
      "----------------------------------------------\n",
      "----------------------------------------------\n",
      "Batch 8/8542\n",
      "  number of users: 67\n",
      "  number of items: 265\n",
      "  number of ratings: 2000\n",
      "  non-zero elements percentage: 0.113\n",
      "  seconds spent on forward: 0.14511\n",
      "  seconds spent on backward: 7.00902\n",
      "  seconds spent on optimizer step: 0.06098\n",
      "----------------------------------------------\n",
      "----------------------------------------------\n",
      "Batch 9/8542\n",
      "  number of users: 81\n",
      "  number of items: 277\n",
      "  number of ratings: 2000\n",
      "  non-zero elements percentage: 0.089\n",
      "  seconds spent on forward: 0.16895\n",
      "  seconds spent on backward: 7.22580\n",
      "  seconds spent on optimizer step: 0.06079\n",
      "----------------------------------------------\n",
      "----------------------------------------------\n",
      "Batch 10/8542\n",
      "  number of users: 65\n",
      "  number of items: 276\n",
      "  number of ratings: 2000\n",
      "  non-zero elements percentage: 0.111\n",
      "  seconds spent on forward: 0.18762\n",
      "  seconds spent on backward: 7.75992\n",
      "  seconds spent on optimizer step: 0.06925\n",
      "----------------------------------------------\n",
      "----------------------------------------------\n",
      "Batch 11/8542\n",
      "  number of users: 67\n",
      "  number of items: 275\n",
      "  number of ratings: 2000\n",
      "  non-zero elements percentage: 0.109\n",
      "  seconds spent on forward: 0.25428\n",
      "  seconds spent on backward: 9.01751\n",
      "  seconds spent on optimizer step: 0.07547\n",
      "----------------------------------------------\n",
      "----------------------------------------------\n",
      "Batch 12/8542\n",
      "  number of users: 78\n",
      "  number of items: 274\n",
      "  number of ratings: 2000\n",
      "  non-zero elements percentage: 0.094\n",
      "  seconds spent on forward: 0.19507\n",
      "  seconds spent on backward: 7.40537\n",
      "  seconds spent on optimizer step: 0.06106\n",
      "----------------------------------------------\n",
      "----------------------------------------------\n",
      "Batch 13/8542\n",
      "  number of users: 75\n",
      "  number of items: 262\n",
      "  number of ratings: 2000\n",
      "  non-zero elements percentage: 0.102\n",
      "  seconds spent on forward: 0.15688\n",
      "  seconds spent on backward: 7.05151\n",
      "  seconds spent on optimizer step: 0.06120\n",
      "----------------------------------------------\n",
      "----------------------------------------------\n",
      "Batch 14/8542\n",
      "  number of users: 63\n",
      "  number of items: 275\n",
      "  number of ratings: 2000\n",
      "  non-zero elements percentage: 0.115\n",
      "  seconds spent on forward: 0.15487\n",
      "  seconds spent on backward: 8.31850\n",
      "  seconds spent on optimizer step: 0.06375\n",
      "----------------------------------------------\n",
      "----------------------------------------------\n",
      "Batch 15/8542\n",
      "  number of users: 73\n",
      "  number of items: 274\n",
      "  number of ratings: 2000\n",
      "  non-zero elements percentage: 0.100\n",
      "  seconds spent on forward: 0.17449\n",
      "  seconds spent on backward: 8.54022\n",
      "  seconds spent on optimizer step: 0.10102\n",
      "----------------------------------------------\n",
      "----------------------------------------------\n",
      "Batch 16/8542\n",
      "  number of users: 60\n",
      "  number of items: 260\n",
      "  number of ratings: 2000\n",
      "  non-zero elements percentage: 0.128\n",
      "  seconds spent on forward: 0.24439\n",
      "  seconds spent on backward: 8.95029\n",
      "  seconds spent on optimizer step: 0.08004\n",
      "----------------------------------------------\n",
      "----------------------------------------------\n",
      "Batch 17/8542\n",
      "  number of users: 64\n",
      "  number of items: 272\n",
      "  number of ratings: 2000\n",
      "  non-zero elements percentage: 0.115\n",
      "  seconds spent on forward: 0.26858\n",
      "  seconds spent on backward: 7.54969\n",
      "  seconds spent on optimizer step: 0.06101\n",
      "----------------------------------------------\n",
      "----------------------------------------------\n",
      "Batch 18/8542\n",
      "  number of users: 69\n",
      "  number of items: 279\n",
      "  number of ratings: 2000\n",
      "  non-zero elements percentage: 0.104\n",
      "  seconds spent on forward: 0.15480\n",
      "  seconds spent on backward: 7.23448\n",
      "  seconds spent on optimizer step: 0.06970\n",
      "----------------------------------------------\n",
      "----------------------------------------------\n",
      "Batch 19/8542\n",
      "  number of users: 71\n",
      "  number of items: 275\n",
      "  number of ratings: 2000\n",
      "  non-zero elements percentage: 0.102\n",
      "  seconds spent on forward: 0.18201\n",
      "  seconds spent on backward: 7.47231\n",
      "  seconds spent on optimizer step: 0.06100\n",
      "----------------------------------------------\n",
      "----------------------------------------------\n",
      "Batch 20/8542\n",
      "  number of users: 65\n",
      "  number of items: 267\n",
      "  number of ratings: 2000\n",
      "  non-zero elements percentage: 0.115\n",
      "  seconds spent on forward: 0.19748\n",
      "  seconds spent on backward: 7.55270\n",
      "  seconds spent on optimizer step: 0.08884\n",
      "----------------------------------------------\n",
      "----------------------------------------------\n",
      "Batch 21/8542\n",
      "  number of users: 67\n",
      "  number of items: 288\n",
      "  number of ratings: 2000\n",
      "  non-zero elements percentage: 0.104\n",
      "  seconds spent on forward: 0.16118\n",
      "  seconds spent on backward: 7.08588\n",
      "  seconds spent on optimizer step: 0.07826\n",
      "----------------------------------------------\n",
      "----------------------------------------------\n",
      "Batch 22/8542\n",
      "  number of users: 70\n",
      "  number of items: 308\n",
      "  number of ratings: 2000\n",
      "  non-zero elements percentage: 0.093\n",
      "  seconds spent on forward: 0.25622\n",
      "  seconds spent on backward: 7.61686\n",
      "  seconds spent on optimizer step: 0.06784\n",
      "----------------------------------------------\n",
      "----------------------------------------------\n",
      "Batch 23/8542\n",
      "  number of users: 74\n",
      "  number of items: 288\n",
      "  number of ratings: 2000\n",
      "  non-zero elements percentage: 0.094\n",
      "  seconds spent on forward: 0.19699\n",
      "  seconds spent on backward: 7.87033\n",
      "  seconds spent on optimizer step: 0.06107\n",
      "----------------------------------------------\n",
      "----------------------------------------------\n",
      "Batch 24/8542\n",
      "  number of users: 67\n",
      "  number of items: 284\n",
      "  number of ratings: 2000\n",
      "  non-zero elements percentage: 0.105\n",
      "  seconds spent on forward: 0.15118\n",
      "  seconds spent on backward: 7.12217\n",
      "  seconds spent on optimizer step: 0.06110\n",
      "----------------------------------------------\n",
      "----------------------------------------------\n",
      "Batch 25/8542\n",
      "  number of users: 81\n",
      "  number of items: 273\n",
      "  number of ratings: 2000\n",
      "  non-zero elements percentage: 0.090\n",
      "  seconds spent on forward: 0.17640\n",
      "  seconds spent on backward: 7.50618\n",
      "  seconds spent on optimizer step: 0.06058\n",
      "----------------------------------------------\n",
      "----------------------------------------------\n",
      "Batch 26/8542\n",
      "  number of users: 89\n",
      "  number of items: 252\n",
      "  number of ratings: 2000\n",
      "  non-zero elements percentage: 0.089\n",
      "  seconds spent on forward: 0.19759\n",
      "  seconds spent on backward: 10.19493\n",
      "  seconds spent on optimizer step: 0.06061\n",
      "----------------------------------------------\n",
      "----------------------------------------------\n",
      "Batch 27/8542\n",
      "  number of users: 75\n",
      "  number of items: 261\n",
      "  number of ratings: 2000\n",
      "  non-zero elements percentage: 0.102\n",
      "  seconds spent on forward: 0.25828\n",
      "  seconds spent on backward: 7.88192\n",
      "  seconds spent on optimizer step: 0.06144\n",
      "----------------------------------------------\n",
      "----------------------------------------------\n",
      "Batch 28/8542\n",
      "  number of users: 66\n",
      "  number of items: 220\n",
      "  number of ratings: 2000\n",
      "  non-zero elements percentage: 0.138\n",
      "  seconds spent on forward: 0.18775\n",
      "  seconds spent on backward: 8.59145\n",
      "  seconds spent on optimizer step: 0.07666\n",
      "----------------------------------------------\n",
      "----------------------------------------------\n",
      "Batch 29/8542\n",
      "  number of users: 72\n",
      "  number of items: 278\n",
      "  number of ratings: 2000\n",
      "  non-zero elements percentage: 0.100\n",
      "  seconds spent on forward: 0.17085\n",
      "  seconds spent on backward: 10.61687\n",
      "  seconds spent on optimizer step: 0.07897\n",
      "----------------------------------------------\n",
      "----------------------------------------------\n",
      "Batch 30/8542\n",
      "  number of users: 73\n",
      "  number of items: 252\n",
      "  number of ratings: 2000\n",
      "  non-zero elements percentage: 0.109\n",
      "  seconds spent on forward: 0.22175\n",
      "  seconds spent on backward: 12.12778\n",
      "  seconds spent on optimizer step: 0.12257\n",
      "----------------------------------------------\n",
      "----------------------------------------------\n",
      "Batch 31/8542\n",
      "  number of users: 59\n",
      "  number of items: 266\n",
      "  number of ratings: 2000\n",
      "  non-zero elements percentage: 0.127\n",
      "  seconds spent on forward: 0.23665\n",
      "  seconds spent on backward: 11.16878\n",
      "  seconds spent on optimizer step: 0.08363\n",
      "----------------------------------------------\n",
      "----------------------------------------------\n",
      "Batch 32/8542\n",
      "  number of users: 76\n",
      "  number of items: 219\n",
      "  number of ratings: 2000\n",
      "  non-zero elements percentage: 0.120\n",
      "  seconds spent on forward: 0.34941\n",
      "  seconds spent on backward: 8.73031\n",
      "  seconds spent on optimizer step: 0.06126\n",
      "----------------------------------------------\n",
      "----------------------------------------------\n",
      "Batch 33/8542\n",
      "  number of users: 71\n",
      "  number of items: 240\n",
      "  number of ratings: 2000\n",
      "  non-zero elements percentage: 0.117\n",
      "  seconds spent on forward: 0.15532\n",
      "  seconds spent on backward: 7.57505\n",
      "  seconds spent on optimizer step: 0.06073\n",
      "----------------------------------------------\n",
      "----------------------------------------------\n",
      "Batch 34/8542\n",
      "  number of users: 71\n",
      "  number of items: 282\n",
      "  number of ratings: 2000\n",
      "  non-zero elements percentage: 0.100\n",
      "  seconds spent on forward: 0.22540\n",
      "  seconds spent on backward: 7.45068\n",
      "  seconds spent on optimizer step: 0.07143\n",
      "----------------------------------------------\n",
      "----------------------------------------------\n",
      "Batch 35/8542\n",
      "  number of users: 71\n",
      "  number of items: 240\n",
      "  number of ratings: 2000\n",
      "  non-zero elements percentage: 0.117\n",
      "  seconds spent on forward: 0.16128\n",
      "  seconds spent on backward: 8.04883\n",
      "  seconds spent on optimizer step: 0.06094\n",
      "----------------------------------------------\n",
      "----------------------------------------------\n",
      "Batch 36/8542\n",
      "  number of users: 69\n",
      "  number of items: 251\n",
      "  number of ratings: 2000\n",
      "  non-zero elements percentage: 0.115\n",
      "  seconds spent on forward: 0.22345\n",
      "  seconds spent on backward: 8.03810\n",
      "  seconds spent on optimizer step: 0.08145\n",
      "----------------------------------------------\n",
      "----------------------------------------------\n",
      "Batch 37/8542\n",
      "  number of users: 66\n",
      "  number of items: 286\n",
      "  number of ratings: 2000\n",
      "  non-zero elements percentage: 0.106\n",
      "  seconds spent on forward: 0.26720\n",
      "  seconds spent on backward: 7.93397\n",
      "  seconds spent on optimizer step: 0.06069\n",
      "----------------------------------------------\n",
      "----------------------------------------------\n",
      "Batch 38/8542\n",
      "  number of users: 66\n",
      "  number of items: 263\n",
      "  number of ratings: 2000\n",
      "  non-zero elements percentage: 0.115\n",
      "  seconds spent on forward: 0.16318\n",
      "  seconds spent on backward: 7.81974\n",
      "  seconds spent on optimizer step: 0.06640\n",
      "----------------------------------------------\n",
      "----------------------------------------------\n",
      "Batch 39/8542\n",
      "  number of users: 81\n",
      "  number of items: 230\n",
      "  number of ratings: 2000\n",
      "  non-zero elements percentage: 0.107\n",
      "  seconds spent on forward: 0.19259\n",
      "  seconds spent on backward: 6.86328\n",
      "  seconds spent on optimizer step: 0.06088\n",
      "----------------------------------------------\n",
      "----------------------------------------------\n",
      "Batch 40/8542\n",
      "  number of users: 74\n",
      "  number of items: 280\n",
      "  number of ratings: 2000\n",
      "  non-zero elements percentage: 0.097\n",
      "  seconds spent on forward: 0.15226\n",
      "  seconds spent on backward: 7.70305\n",
      "  seconds spent on optimizer step: 0.06071\n",
      "----------------------------------------------\n",
      "----------------------------------------------\n",
      "Batch 41/8542\n",
      "  number of users: 70\n",
      "  number of items: 277\n",
      "  number of ratings: 2000\n",
      "  non-zero elements percentage: 0.103\n",
      "  seconds spent on forward: 0.16177\n",
      "  seconds spent on backward: 8.70910\n",
      "  seconds spent on optimizer step: 0.06675\n",
      "----------------------------------------------\n",
      "----------------------------------------------\n",
      "Batch 42/8542\n",
      "  number of users: 64\n",
      "  number of items: 264\n",
      "  number of ratings: 2000\n",
      "  non-zero elements percentage: 0.118\n",
      "  seconds spent on forward: 0.19851\n",
      "  seconds spent on backward: 7.56688\n",
      "  seconds spent on optimizer step: 0.06067\n",
      "----------------------------------------------\n",
      "----------------------------------------------\n",
      "Batch 43/8542\n",
      "  number of users: 81\n",
      "  number of items: 313\n",
      "  number of ratings: 2000\n",
      "  non-zero elements percentage: 0.079\n",
      "  seconds spent on forward: 0.25849\n",
      "  seconds spent on backward: 8.79140\n",
      "  seconds spent on optimizer step: 0.06246\n",
      "----------------------------------------------\n",
      "----------------------------------------------\n",
      "Batch 44/8542\n",
      "  number of users: 72\n",
      "  number of items: 241\n",
      "  number of ratings: 2000\n",
      "  non-zero elements percentage: 0.115\n",
      "  seconds spent on forward: 0.15371\n",
      "  seconds spent on backward: 7.74195\n",
      "  seconds spent on optimizer step: 0.06673\n",
      "----------------------------------------------\n",
      "----------------------------------------------\n",
      "Batch 45/8542\n",
      "  number of users: 60\n",
      "  number of items: 261\n",
      "  number of ratings: 2000\n",
      "  non-zero elements percentage: 0.128\n",
      "  seconds spent on forward: 0.13884\n",
      "  seconds spent on backward: 6.93130\n",
      "  seconds spent on optimizer step: 0.06232\n",
      "----------------------------------------------\n",
      "----------------------------------------------\n",
      "Batch 46/8542\n",
      "  number of users: 46\n",
      "  number of items: 343\n",
      "  number of ratings: 2000\n",
      "  non-zero elements percentage: 0.127\n",
      "  seconds spent on forward: 0.11751\n",
      "  seconds spent on backward: 6.93243\n",
      "  seconds spent on optimizer step: 0.06104\n",
      "----------------------------------------------\n",
      "----------------------------------------------\n",
      "Batch 47/8542\n",
      "  number of users: 51\n",
      "  number of items: 305\n",
      "  number of ratings: 2000\n",
      "  non-zero elements percentage: 0.129\n",
      "  seconds spent on forward: 0.12483\n",
      "  seconds spent on backward: 6.90418\n",
      "  seconds spent on optimizer step: 0.06110\n",
      "----------------------------------------------\n",
      "----------------------------------------------\n",
      "Batch 48/8542\n",
      "  number of users: 55\n",
      "  number of items: 314\n",
      "  number of ratings: 2000\n",
      "  non-zero elements percentage: 0.116\n",
      "  seconds spent on forward: 0.24314\n",
      "  seconds spent on backward: 7.01542\n",
      "  seconds spent on optimizer step: 0.06062\n",
      "----------------------------------------------\n",
      "----------------------------------------------\n",
      "Batch 49/8542\n",
      "  number of users: 54\n",
      "  number of items: 299\n",
      "  number of ratings: 2000\n",
      "  non-zero elements percentage: 0.124\n",
      "  seconds spent on forward: 0.18074\n",
      "  seconds spent on backward: 8.11294\n",
      "  seconds spent on optimizer step: 0.06551\n",
      "----------------------------------------------\n",
      "----------------------------------------------\n",
      "Batch 50/8542\n",
      "  number of users: 58\n",
      "  number of items: 332\n",
      "  number of ratings: 2000\n",
      "  non-zero elements percentage: 0.104\n",
      "  seconds spent on forward: 0.14271\n",
      "  seconds spent on backward: 7.47088\n",
      "  seconds spent on optimizer step: 0.06308\n",
      "----------------------------------------------\n",
      "----------------------------------------------\n",
      "Batch 51/8542\n",
      "  number of users: 49\n",
      "  number of items: 428\n",
      "  number of ratings: 2000\n",
      "  non-zero elements percentage: 0.095\n",
      "  seconds spent on forward: 0.14586\n"
     ]
    },
    {
     "ename": "KeyboardInterrupt",
     "evalue": "",
     "output_type": "error",
     "traceback": [
      "\u001b[0;31m---------------------------------------------------------------------------\u001b[0m",
      "\u001b[0;31mKeyboardInterrupt\u001b[0m                         Traceback (most recent call last)",
      "\u001b[0;32m<ipython-input-171-14aca6bf40d6>\u001b[0m in \u001b[0;36m<module>\u001b[0;34m()\u001b[0m\n\u001b[0;32m----> 1\u001b[0;31m \u001b[0mtraining_v2\u001b[0m\u001b[0;34m(\u001b[0m\u001b[0;34m)\u001b[0m\u001b[0;34m\u001b[0m\u001b[0m\n\u001b[0m",
      "\u001b[0;32m<ipython-input-170-b432135d2f60>\u001b[0m in \u001b[0;36mtraining_v2\u001b[0;34m(epochs, lamb)\u001b[0m\n\u001b[1;32m     63\u001b[0m             \u001b[0mt0\u001b[0m \u001b[0;34m=\u001b[0m \u001b[0mtime\u001b[0m\u001b[0;34m.\u001b[0m\u001b[0mtime\u001b[0m\u001b[0;34m(\u001b[0m\u001b[0;34m)\u001b[0m\u001b[0;34m\u001b[0m\u001b[0m\n\u001b[1;32m     64\u001b[0m \u001b[0;34m\u001b[0m\u001b[0m\n\u001b[0;32m---> 65\u001b[0;31m             \u001b[0mbatchCost\u001b[0m\u001b[0;34m.\u001b[0m\u001b[0mbackward\u001b[0m\u001b[0;34m(\u001b[0m\u001b[0mretain_variables\u001b[0m\u001b[0;34m=\u001b[0m\u001b[0mFalse\u001b[0m\u001b[0;34m)\u001b[0m\u001b[0;34m\u001b[0m\u001b[0m\n\u001b[0m\u001b[1;32m     66\u001b[0m \u001b[0;34m\u001b[0m\u001b[0m\n\u001b[1;32m     67\u001b[0m             \u001b[0mt1\u001b[0m \u001b[0;34m=\u001b[0m \u001b[0mtime\u001b[0m\u001b[0;34m.\u001b[0m\u001b[0mtime\u001b[0m\u001b[0;34m(\u001b[0m\u001b[0;34m)\u001b[0m\u001b[0;34m\u001b[0m\u001b[0m\n",
      "\u001b[0;32m/usr/local/lib/python2.7/dist-packages/torch/autograd/variable.pyc\u001b[0m in \u001b[0;36mbackward\u001b[0;34m(self, gradient, retain_variables)\u001b[0m\n\u001b[1;32m    144\u001b[0m                     'or with gradient w.r.t. the variable')\n\u001b[1;32m    145\u001b[0m             \u001b[0mgradient\u001b[0m \u001b[0;34m=\u001b[0m \u001b[0mself\u001b[0m\u001b[0;34m.\u001b[0m\u001b[0mdata\u001b[0m\u001b[0;34m.\u001b[0m\u001b[0mnew\u001b[0m\u001b[0;34m(\u001b[0m\u001b[0;34m)\u001b[0m\u001b[0;34m.\u001b[0m\u001b[0mresize_as_\u001b[0m\u001b[0;34m(\u001b[0m\u001b[0mself\u001b[0m\u001b[0;34m.\u001b[0m\u001b[0mdata\u001b[0m\u001b[0;34m)\u001b[0m\u001b[0;34m.\u001b[0m\u001b[0mfill_\u001b[0m\u001b[0;34m(\u001b[0m\u001b[0;36m1\u001b[0m\u001b[0;34m)\u001b[0m\u001b[0;34m\u001b[0m\u001b[0m\n\u001b[0;32m--> 146\u001b[0;31m         \u001b[0mself\u001b[0m\u001b[0;34m.\u001b[0m\u001b[0m_execution_engine\u001b[0m\u001b[0;34m.\u001b[0m\u001b[0mrun_backward\u001b[0m\u001b[0;34m(\u001b[0m\u001b[0;34m(\u001b[0m\u001b[0mself\u001b[0m\u001b[0;34m,\u001b[0m\u001b[0;34m)\u001b[0m\u001b[0;34m,\u001b[0m \u001b[0;34m(\u001b[0m\u001b[0mgradient\u001b[0m\u001b[0;34m,\u001b[0m\u001b[0;34m)\u001b[0m\u001b[0;34m,\u001b[0m \u001b[0mretain_variables\u001b[0m\u001b[0;34m)\u001b[0m\u001b[0;34m\u001b[0m\u001b[0m\n\u001b[0m\u001b[1;32m    147\u001b[0m \u001b[0;34m\u001b[0m\u001b[0m\n\u001b[1;32m    148\u001b[0m     \u001b[0;32mdef\u001b[0m \u001b[0mregister_hook\u001b[0m\u001b[0;34m(\u001b[0m\u001b[0mself\u001b[0m\u001b[0;34m,\u001b[0m \u001b[0mhook\u001b[0m\u001b[0;34m)\u001b[0m\u001b[0;34m:\u001b[0m\u001b[0;34m\u001b[0m\u001b[0m\n",
      "\u001b[0;32m/usr/local/lib/python2.7/dist-packages/torch/autograd/_functions/tensor.pyc\u001b[0m in \u001b[0;36mbackward\u001b[0;34m(self, grad_output)\u001b[0m\n\u001b[1;32m     19\u001b[0m \u001b[0;34m\u001b[0m\u001b[0m\n\u001b[1;32m     20\u001b[0m     \u001b[0;32mdef\u001b[0m \u001b[0mbackward\u001b[0m\u001b[0;34m(\u001b[0m\u001b[0mself\u001b[0m\u001b[0;34m,\u001b[0m \u001b[0mgrad_output\u001b[0m\u001b[0;34m)\u001b[0m\u001b[0;34m:\u001b[0m\u001b[0;34m\u001b[0m\u001b[0m\n\u001b[0;32m---> 21\u001b[0;31m         \u001b[0mgrad_input\u001b[0m \u001b[0;34m=\u001b[0m \u001b[0mgrad_output\u001b[0m\u001b[0;34m.\u001b[0m\u001b[0mnew\u001b[0m\u001b[0;34m(\u001b[0m\u001b[0mself\u001b[0m\u001b[0;34m.\u001b[0m\u001b[0minput_size\u001b[0m\u001b[0;34m)\u001b[0m\u001b[0;34m.\u001b[0m\u001b[0mzero_\u001b[0m\u001b[0;34m(\u001b[0m\u001b[0;34m)\u001b[0m\u001b[0;34m\u001b[0m\u001b[0m\n\u001b[0m\u001b[1;32m     22\u001b[0m         \u001b[0mgrad_input\u001b[0m\u001b[0;34m.\u001b[0m\u001b[0m_set_index\u001b[0m\u001b[0;34m(\u001b[0m\u001b[0mself\u001b[0m\u001b[0;34m.\u001b[0m\u001b[0mindex\u001b[0m\u001b[0;34m,\u001b[0m \u001b[0mgrad_output\u001b[0m\u001b[0;34m)\u001b[0m\u001b[0;34m\u001b[0m\u001b[0m\n\u001b[1;32m     23\u001b[0m         \u001b[0;32mreturn\u001b[0m \u001b[0mgrad_input\u001b[0m\u001b[0;34m\u001b[0m\u001b[0m\n",
      "\u001b[0;31mKeyboardInterrupt\u001b[0m: "
     ]
    }
   ],
   "source": [
    "training_v2()"
   ]
  },
  {
   "cell_type": "code",
   "execution_count": null,
   "metadata": {
    "collapsed": false
   },
   "outputs": [],
   "source": [
    "ratings.to_csv('ratings_sorted_by_timestamp.csv')"
   ]
  },
  {
   "cell_type": "code",
   "execution_count": null,
   "metadata": {
    "collapsed": true
   },
   "outputs": [],
   "source": []
  }
 ],
 "metadata": {
  "kernelspec": {
   "display_name": "Python 2",
   "language": "python",
   "name": "python2"
  },
  "language_info": {
   "codemirror_mode": {
    "name": "ipython",
    "version": 2
   },
   "file_extension": ".py",
   "mimetype": "text/x-python",
   "name": "python",
   "nbconvert_exporter": "python",
   "pygments_lexer": "ipython2",
   "version": "2.7.12"
  }
 },
 "nbformat": 4,
 "nbformat_minor": 2
}
